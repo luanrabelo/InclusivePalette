{
 "cells": [
  {
   "attachments": {},
   "cell_type": "markdown",
   "metadata": {},
   "source": [
    "# InclusivePalette\n",
    "\n",
    "#### Developer Luan Rabelo - @lprabelo"
   ]
  },
  {
   "cell_type": "code",
   "execution_count": null,
   "metadata": {},
   "outputs": [],
   "source": [
    "import os\n",
    "import sys\n",
    "import colorsys\n",
    "import random\n",
    "\n",
    "class TerminalColors:\n",
    "    Header      = '\\033[95m'\n",
    "    Blue        = '\\033[94m'\n",
    "    Cyan        = '\\033[96m'\n",
    "    Green       = '\\033[92m'\n",
    "    Warning     = '\\033[93m'\n",
    "    Fail        = '\\033[91m'\n",
    "    End         = '\\033[0m'\n",
    "    Bold        = '\\033[1m'\n",
    "    Underline   = '\\033[4m'\n",
    "\n",
    "try:\n",
    "    import matplotlib.pyplot as plt\n",
    "    print(f\"{TerminalColors.Green}Module 'matplotlib' found and imported!{TerminalColors.End}\")\n",
    "except ImportError:\n",
    "    print(f\"{TerminalColors.Fail}Module 'matplotlib' not found, please install it with: python3 -m pip install -U matplotlib{TerminalColors.End}\")\n",
    "    print(f\"{TerminalColors.Warning}{TerminalColors.Underline}Do you want to install it now? (yes/no){TerminalColors.End}\")\n",
    "    Choice = str(input())\n",
    "    if Choice.lower() == 'y' or Choice.lower() == 'yes':\n",
    "        os.system('python3 -m pip install -U matplotlib')\n",
    "        print(f\"{TerminalColors.Green}Module 'matplotlib' installed successfully!{TerminalColors.End}\")\n",
    "        try:\n",
    "            import matplotlib.pyplot as plt\n",
    "            print(f\"{TerminalColors.Green}Module 'matplotlib' found and imported!{TerminalColors.End}\")\n",
    "        except ImportError:\n",
    "            print(f\"{TerminalColors.Fail}Module 'matplotlib' not found, please reinstall it with: python3 -m pip install -U pycirclize{TerminalColors.End}\")\n",
    "            sys.exit()\n",
    "    else:\n",
    "        print(f\"{TerminalColors.Fail}Installation 'matplotlib' aborted!{TerminalColors.End}\")"
   ]
  },
  {
   "cell_type": "code",
   "execution_count": null,
   "metadata": {},
   "outputs": [],
   "source": [
    "def ColorsForColorBlind(seed: int):\n",
    "    '''\n",
    "    Developed by: Luan Rabelo and ChatGPT\n",
    "    '''\n",
    "    Red     = random.randint(50, 205) # Red Color \n",
    "    Green   = random.randint(50, 205) # Green Color\n",
    "    Blue    = random.randint(50, 205) # Blue Color\n",
    "    # Convert RGB values to HSV\n",
    "    RedColor, GreenColor, BlueColor = colorsys.hsv_to_rgb(Red*seed, Green, Blue)\n",
    "    # Adjust the color for color blindness using the following formula\n",
    "    # Source: https://ixora.io/projects/colorblindness/color-blindness-simulation-research/\n",
    "    NewRed      = 0.018 * GreenColor + 0.005 * BlueColor \n",
    "    NewGreen    = 0.370 * RedColor + 0.75 * BlueColor\n",
    "    NewBlue     = 0.100 * RedColor + 0.10 * GreenColor\n",
    "    # Converter RGB para Hexadecimal\n",
    "    HexColor = \"#{0:02x}{1:02x}{2:02x}\".format(int(NewRed * 200), int(NewGreen * 200), int(NewBlue * 200))\n",
    "    while len(HexColor) > 7:\n",
    "        HexColor = str(HexColor[:-1]).replace(\"-\", str(seed)).upper()\n",
    "    return HexColor"
   ]
  },
  {
   "cell_type": "code",
   "execution_count": null,
   "metadata": {},
   "outputs": [],
   "source": [
    "for i in range(15):\n",
    "    print(ColorsForColorBlind(seed=i))"
   ]
  },
  {
   "cell_type": "code",
   "execution_count": null,
   "metadata": {},
   "outputs": [],
   "source": [
    "ColorsMap = [ColorsForColorBlind(i) for i in range(15)]\n",
    "print(ColorsMap)\n",
    "fig, ax = plt.subplots(figsize=(25, 10))\n",
    "for i, c in enumerate(ColorsMap):\n",
    "    ax.bar(i, 1, color=c, label=c)\n",
    "ax.yaxis.set_visible(False)\n",
    "ax.set_xticklabels(ColorsMap)\n",
    "ax.spines['top'].set_visible(False)\n",
    "ax.spines['right'].set_visible(False)\n",
    "ax.spines['bottom'].set_visible(False)\n",
    "ax.spines['left'].set_visible(False)\n",
    "ax.set_title('InclusivePalette - Developed by: Luan Rabelo', fontsize=25, fontweight='bold', color='#16213E', y=1.02)\n",
    "plt.show()\n",
    "fig.savefig('InclusivePalette.png', dpi=600, bbox_inches='tight')"
   ]
  }
 ],
 "metadata": {
  "kernelspec": {
   "display_name": "Python 3",
   "language": "python",
   "name": "python3"
  },
  "language_info": {
   "codemirror_mode": {
    "name": "ipython",
    "version": 3
   },
   "file_extension": ".py",
   "mimetype": "text/x-python",
   "name": "python",
   "nbconvert_exporter": "python",
   "pygments_lexer": "ipython3",
   "version": "3.10.10"
  },
  "orig_nbformat": 4,
  "vscode": {
   "interpreter": {
    "hash": "a25c630bf9a5d38b6086da26a41237173e2653058c72a588085940926e19d9c4"
   }
  }
 },
 "nbformat": 4,
 "nbformat_minor": 2
}
